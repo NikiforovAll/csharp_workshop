{
 "cells": [
  {
   "cell_type": "markdown",
   "metadata": {},
   "source": [
    " # Using declarations\n",
    "\n",
    "* Variable being declared should be disposed at the end of the enclosing scope\n",
    "* Allows to avoid unnecessary nesting\n",
    "\n",
    "```csharp\n",
    "{\n",
    "    using var test = new TestDisposable();\n",
    "    test.DoSomething();\n",
    "}\n",
    "```\n",
    "\n",
    "Same as: \n",
    "\n",
    "```csharp\n",
    "{\n",
    "    TestDisposable testDisposable = new TestDisposable();\n",
    "    try\n",
    "    {\n",
    "        while (true)\n",
    "        {\n",
    "            testDisposable.DoSomething();\n",
    "        }\n",
    "    }\n",
    "    finally\n",
    "    {\n",
    "        if (testDisposable != null)\n",
    "        {\n",
    "            testDisposable.Dispose();\n",
    "        }\n",
    "    }\n",
    "}\n",
    "```\n"
   ]
  },
  {
   "cell_type": "code",
   "execution_count": null,
   "metadata": {},
   "outputs": [],
   "source": [
    "using System.Net.Http;\n",
    "using System.Text.Json;\n",
    "\n",
    "public class CatUrl\n",
    "{\n",
    "    public string url {get; set;}\n",
    "}\n",
    "\n",
    "public class TestDisposable : IDisposable\n",
    "{\n",
    "    readonly HttpClient client = new HttpClient();\n",
    "    public async Task DoSomething()\n",
    "    {\n",
    "        HttpResponseMessage response = await client.GetAsync(\"https://api.thecatapi.com/v1/images/search\");\n",
    "        response.EnsureSuccessStatusCode();\n",
    "        await response.Content.ReadAsStreamAsync();\n",
    "        using var responseStream = await response.Content.ReadAsStreamAsync();\n",
    "        var result = await JsonSerializer.DeserializeAsync<IEnumerable<CatUrl>>(responseStream);\n",
    "        //\"https://www.hdwallpaper.nu/wp-content/uploads/2015/02/Funny-Cat-Hidden.jpg\"\n",
    "        display(img[\n",
    "            src: result.First().url,\n",
    "            style: \"height: 300px;\"]);\n",
    "    }\n",
    "\n",
    "    public void Dispose()\n",
    "    {\n",
    "        client?.Dispose();\n",
    "        display(\"Disposed...\");\n",
    "    }\n",
    "}\n",
    "\n",
    "display(\"Before\");\n",
    "\n",
    "var counter = 3;\n",
    "{\n",
    "    using var test = new TestDisposable();\n",
    "    do\n",
    "    {\n",
    "        // TODO: move using declaration here and check\n",
    "        await test.DoSomething();\n",
    "    }\n",
    "    while(--counter > 0);\n",
    "}\n",
    "\n",
    "\n",
    "display(\"After\");"
   ]
  },
  {
   "cell_type": "markdown",
   "metadata": {},
   "source": [
    "## Disposal precedence\n",
    "\n",
    "```csharp\n",
    "using var f1 = new TestDisposable(\"f1\");\n",
    "using TestDisposable f2 = new TestDisposable(\"f2\"), f3 = new TestDisposable(\"f3\");\n",
    "...\n",
    "// Dispose f3\n",
    "// Dispose f2 \n",
    "// Dispose f1\n",
    "```"
   ]
  },
  {
   "cell_type": "markdown",
   "metadata": {},
   "source": [
    "# Demo\n"
   ]
  },
  {
   "cell_type": "code",
   "execution_count": null,
   "metadata": {},
   "outputs": [],
   "source": [
    "{\n",
    "    using var f1 = new TestDisposable(\"f1\");\n",
    "    using TestDisposable f2 = new TestDisposable(\"f2\"), f3 = new TestDisposable(\"f3\");\n",
    "}\n",
    "\n",
    "public class TestDisposable : IDisposable\n",
    "{\n",
    "    private readonly string _name;\n",
    "    public TestDisposable(string name) => _name = name;\n",
    "    public void Dispose()\n",
    "    {\n",
    "        display($\"Dispose {_name}\");\n",
    "    }\n",
    "}"
   ]
  },
  {
   "cell_type": "markdown",
   "metadata": {},
   "source": [
    "## Demo\n",
    "\n",
    "Explanation: [sharplab-demo-using-declarations](https://sharplab.io/#v2:EYLgtghgzgLgpgJwDQBMQGoA+ABADAAmwEYA6ASQHkBuAWACh7iA2fAWTjAHsEBPAZRgI4EMPgDicGABEIMCAAoAlPQDe9fBsIEAbhAT4wHAUJH4AvPgB2cAO5sO3foOFgltOpq35d+2CbAA6ggAlvD6FtZ2xi5BoYjyhmDRIorunn4xIWEksfAAMsHW8gBEACoAonylxanqmtgA7Fa29ly8ya6JHSSlnACCCAgQPEpI+DZZEMAANnAg+ABmENNQcLV0AL70jEQs7G1O/uKSMnIATEqqdRp43noGRs6mES37jh1u1/hqHp71OvcMiJcohzM0ok9All4l1Ies/pogVC4ggctCCkUypVqvDNFtfjcmpFWu9IQlHv4ev1BsNRuNJjM5otlqt1hsgA==)"
   ]
  },
  {
   "cell_type": "code",
   "execution_count": null,
   "metadata": {},
   "outputs": [],
   "source": [
    "using System.IO;\n",
    "\n",
    "var stream = GetData();\n",
    "display(System.Text.Encoding.ASCII.GetString(stream.ToArray()));\n",
    "\n",
    "public MemoryStream GetData()\n",
    "{\n",
    "    // TODO: fix this\n",
    "    using var memStream = new MemoryStream();\n",
    "    using var streamWriter = new StreamWriter(memStream);\n",
    "    streamWriter.WriteLine(\"TEST\");\n",
    "    streamWriter.Flush();\n",
    "    return new MemoryStream(memStream.ToArray(), writable: false);\n",
    "}\n",
    "\n",
    "// 📝HINT: try to introduce another declaration scope"
   ]
  },
  {
   "cell_type": "markdown",
   "metadata": {},
   "source": [
    "## Reference\n",
    "\n",
    "* https://docs.microsoft.com/en-us/dotnet/csharp/whats-new/csharp-8#using-declarations\n",
    "* https://docs.microsoft.com/en-us/dotnet/csharp/language-reference/proposals/csharp-8.0/using\n",
    "* https://gunnarpeipman.com/csharp-using-declarations/\n",
    "* https://www.stevejgordon.co.uk/csharp-8-understanding-using-declarations"
   ]
  }
 ],
 "metadata": {
  "kernelspec": {
   "display_name": ".NET (C#)",
   "language": "C#",
   "name": ".net-csharp"
  },
  "language_info": {
   "file_extension": ".cs",
   "mimetype": "text/x-csharp",
   "name": "C#",
   "pygments_lexer": "csharp",
   "version": "8.0"
  }
 },
 "nbformat": 4,
 "nbformat_minor": 4
}
